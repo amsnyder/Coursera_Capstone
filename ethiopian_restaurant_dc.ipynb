{
 "metadata": {
  "language_info": {
   "codemirror_mode": {
    "name": "ipython",
    "version": 3
   },
   "file_extension": ".py",
   "mimetype": "text/x-python",
   "name": "python",
   "nbconvert_exporter": "python",
   "pygments_lexer": "ipython3",
   "version": "3.7.6-final"
  },
  "orig_nbformat": 2,
  "kernelspec": {
   "name": "python3",
   "display_name": "Python 3.7.6 64-bit ('base': conda)",
   "metadata": {
    "interpreter": {
     "hash": "c90a4aa9fe07e9fe7e6111688507f520546d575867408f022f7d6d8ba86c3500"
    }
   }
  }
 },
 "nbformat": 4,
 "nbformat_minor": 2,
 "cells": [
  {
   "source": [
    "# Capstone Project - The Best Neighborhood for an Ethipian Restaurant in DC"
   ],
   "cell_type": "markdown",
   "metadata": {}
  },
  {
   "source": [
    "## Table of contents\n",
    "* [Introduction: Business Problem](#introduction)\n",
    "* [Data](#data)"
   ],
   "cell_type": "markdown",
   "metadata": {}
  },
  {
   "source": [
    "## Introduction: Business Problem <a name=\"introduction\"></a>\n"
   ],
   "cell_type": "markdown",
   "metadata": {}
  },
  {
   "source": [
    "In this project, I will try to find an optimal location to open a new Ethiopian restaurant in Washington, DC.\n",
    "\n",
    "DC already has many highly-rated Ethiopian restaurants. We want to determine where the restaurant could go that don’t already have other Ethiopian restaurants in the area. In Washington, DC parking can be a nightmare. Therefore, we would like to place this restaurant as close to a metro stop as possible so that it is easily accessible to residents living all around the city.\n",
    "\n",
    "We will determine the best neighborhoods to open this restaurant, based on the above criteria. The top neighborhoods will be presented, along with their advantages and disadvantages, to the stakeholder."
   ],
   "cell_type": "markdown",
   "metadata": {}
  },
  {
   "source": [
    "## Data <a name=\"data\"></a>"
   ],
   "cell_type": "markdown",
   "metadata": {}
  },
  {
   "source": [
    "The data we need to make our decision are:\n",
    "- number of existing Ethiopian restaurants in the neighborhood\n",
    "- location of metro stops\n",
    "- regularly spaced grid of locations, centered around city center, which will be used to define neighborhoods\n",
    "Following data sources will be needed to extract/generate the required information:\n",
    "- the number of Ethiopian restaurants and their locations in every neighborhood will be obtained using Foursquare API\n",
    "- the location of metro stops will be obtained using the Washington Metropolitan Area Transit Authority API\n",
    "- the coordinates of Washington, DC’s center winter will be obtained using the OpenCage Geocoding API; neighborhood centers will be generated algorithmically \n"
   ],
   "cell_type": "markdown",
   "metadata": {}
  },
  {
   "cell_type": "code",
   "execution_count": null,
   "metadata": {},
   "outputs": [],
   "source": []
  }
 ]
}